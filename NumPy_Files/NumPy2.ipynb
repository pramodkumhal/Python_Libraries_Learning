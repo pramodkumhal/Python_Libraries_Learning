{
  "nbformat": 4,
  "nbformat_minor": 0,
  "metadata": {
    "colab": {
      "provenance": [],
      "authorship_tag": "ABX9TyOQZXl7wje1PRyLkJ6iR3yE",
      "include_colab_link": true
    },
    "kernelspec": {
      "name": "python3",
      "display_name": "Python 3"
    },
    "language_info": {
      "name": "python"
    }
  },
  "cells": [
    {
      "cell_type": "markdown",
      "metadata": {
        "id": "view-in-github",
        "colab_type": "text"
      },
      "source": [
        "<a href=\"https://colab.research.google.com/github/pramodkumhal/Python_Libraries_Learning/blob/main/NumPy_Files/NumPy2.ipynb\" target=\"_parent\"><img src=\"https://colab.research.google.com/assets/colab-badge.svg\" alt=\"Open In Colab\"/></a>"
      ]
    },
    {
      "cell_type": "markdown",
      "source": [
        "# Numpy array with Random number"
      ],
      "metadata": {
        "id": "bcQFPnjL7HUK"
      }
    },
    {
      "cell_type": "code",
      "execution_count": null,
      "metadata": {
        "colab": {
          "base_uri": "https://localhost:8080/"
        },
        "id": "LWnlh3Ow5bVZ",
        "outputId": "59d82ffc-e59b-4f9e-987e-0acf8969b4e0"
      },
      "outputs": [
        {
          "output_type": "stream",
          "name": "stdout",
          "text": [
            "[0.29919379 0.38645829 0.22215314 0.28820255]\n"
          ]
        }
      ],
      "source": [
        "#Randon Rand()\n",
        "import numpy as np\n",
        "var1=np.random.rand(4)\n",
        "print(var1)"
      ]
    },
    {
      "cell_type": "code",
      "source": [
        "#Randon Randn()\n",
        "import numpy as np\n",
        "var2=np.random.randn(4)\n",
        "print(var2)"
      ],
      "metadata": {
        "colab": {
          "base_uri": "https://localhost:8080/"
        },
        "id": "HWdUqlJP8zuq",
        "outputId": "3c40a96c-6864-41c3-bff7-d8588995a85d"
      },
      "execution_count": null,
      "outputs": [
        {
          "output_type": "stream",
          "name": "stdout",
          "text": [
            "[-0.10371825  0.6692088   0.45734968  0.43781822]\n"
          ]
        }
      ]
    },
    {
      "cell_type": "code",
      "source": [
        "#Randon Ranf()\n",
        "import numpy as np\n",
        "var3=np.random.ranf(4)\n",
        "print(var3)"
      ],
      "metadata": {
        "colab": {
          "base_uri": "https://localhost:8080/"
        },
        "id": "aKsB7gwQ-CNy",
        "outputId": "abd8bd70-f2bb-4779-f934-11d7841d107f"
      },
      "execution_count": null,
      "outputs": [
        {
          "output_type": "stream",
          "name": "stdout",
          "text": [
            "[0.47564283 0.42640162 0.08927074 0.3855639 ]\n"
          ]
        }
      ]
    },
    {
      "cell_type": "code",
      "source": [
        "#Randon Randint()\n",
        "import numpy as np\n",
        "var4=np.random.randint(1,10,size=(4,3))\n",
        "print(var4)"
      ],
      "metadata": {
        "colab": {
          "base_uri": "https://localhost:8080/"
        },
        "id": "yHoFPFoU-gmP",
        "outputId": "5388c933-7b6a-4fd5-e023-76ad0114fe1a"
      },
      "execution_count": null,
      "outputs": [
        {
          "output_type": "stream",
          "name": "stdout",
          "text": [
            "[[4 9 7]\n",
            " [1 4 9]\n",
            " [4 8 7]\n",
            " [2 8 5]]\n"
          ]
        }
      ]
    }
  ]
}