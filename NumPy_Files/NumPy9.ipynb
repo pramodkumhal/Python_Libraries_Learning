{
  "nbformat": 4,
  "nbformat_minor": 0,
  "metadata": {
    "colab": {
      "provenance": [],
      "authorship_tag": "ABX9TyNDjXQGXNBOMHMm1nzbuSU4",
      "include_colab_link": true
    },
    "kernelspec": {
      "name": "python3",
      "display_name": "Python 3"
    },
    "language_info": {
      "name": "python"
    }
  },
  "cells": [
    {
      "cell_type": "markdown",
      "metadata": {
        "id": "view-in-github",
        "colab_type": "text"
      },
      "source": [
        "<a href=\"https://colab.research.google.com/github/pramodkumhal/Python_Libraries_Learning/blob/main/NumPy_Files/NumPy9.ipynb\" target=\"_parent\"><img src=\"https://colab.research.google.com/assets/colab-badge.svg\" alt=\"Open In Colab\"/></a>"
      ]
    },
    {
      "cell_type": "markdown",
      "source": [
        "#Join and Split Array"
      ],
      "metadata": {
        "id": "K1RMHde7crhF"
      }
    },
    {
      "cell_type": "markdown",
      "source": [
        "Join Array"
      ],
      "metadata": {
        "id": "hnODk7XwdIw-"
      }
    },
    {
      "cell_type": "code",
      "execution_count": null,
      "metadata": {
        "colab": {
          "base_uri": "https://localhost:8080/"
        },
        "id": "KpmqjEJXb6M9",
        "outputId": "e551b884-17f5-479c-ba68-b9bdb3911b3f"
      },
      "outputs": [
        {
          "output_type": "stream",
          "name": "stdout",
          "text": [
            "[1 2 3 4 5 6 7 8]\n"
          ]
        }
      ],
      "source": [
        "#1D Array\n",
        "import numpy as np\n",
        "var1=np.array([1,2,3,4])\n",
        "var2=np.array([5,6,7,8])\n",
        "arr1=np.concatenate((var1,var2))\n",
        "print(arr1)"
      ]
    },
    {
      "cell_type": "code",
      "source": [
        "#2D Array\n",
        "import numpy as np\n",
        "varr1=np.array([[1,2],[3,4]])\n",
        "varr2=np.array([[5,6],[7,8]])\n",
        "arr2=np.concatenate((varr1,varr2),axis=1)\n",
        "print(arr2)"
      ],
      "metadata": {
        "colab": {
          "base_uri": "https://localhost:8080/"
        },
        "id": "cHXhG67ed5si",
        "outputId": "5b14b041-679a-4576-864e-ff7a45f06d92"
      },
      "execution_count": null,
      "outputs": [
        {
          "output_type": "stream",
          "name": "stdout",
          "text": [
            "[[1 2 5 6]\n",
            " [3 4 7 8]]\n"
          ]
        }
      ]
    },
    {
      "cell_type": "code",
      "source": [
        "#1D Array using stack\n",
        "import numpy as np\n",
        "var_1=np.array([1,2,3,4])\n",
        "var_2=np.array([5,6,7,8])\n",
        "arr=np.stack((var_1,var_2))  #axis=0\n",
        "print(arr)\n",
        "print(\"\\n\")\n",
        "arr_1=np.stack((var_1,var_2),axis=1)\n",
        "print(arr_1)\n",
        "print(\"\\n\")\n",
        "arr_2=np.hstack((var_1,var_2))   #row\n",
        "print(arr_2)\n",
        "print(\"\\n\")\n",
        "arr_3=np.vstack((var_1,var_2))  #column\n",
        "print(arr_3)\n",
        "print(\"\\n\")\n",
        "arr_4=np.dstack((var_1,var_2))   #height\n",
        "print(arr_4)"
      ],
      "metadata": {
        "colab": {
          "base_uri": "https://localhost:8080/"
        },
        "id": "oK7TzSFvfMTz",
        "outputId": "ffd3fbfd-7ac3-4f7d-852c-9858d7c4bf4a"
      },
      "execution_count": null,
      "outputs": [
        {
          "output_type": "stream",
          "name": "stdout",
          "text": [
            "[[1 2 3 4]\n",
            " [5 6 7 8]]\n",
            "\n",
            "\n",
            "[[1 5]\n",
            " [2 6]\n",
            " [3 7]\n",
            " [4 8]]\n",
            "\n",
            "\n",
            "[1 2 3 4 5 6 7 8]\n",
            "\n",
            "\n",
            "[[1 2 3 4]\n",
            " [5 6 7 8]]\n",
            "\n",
            "\n",
            "[[[1 5]\n",
            "  [2 6]\n",
            "  [3 7]\n",
            "  [4 8]]]\n"
          ]
        }
      ]
    },
    {
      "cell_type": "markdown",
      "source": [
        "Split Array"
      ],
      "metadata": {
        "id": "fMdzvZNei1v7"
      }
    },
    {
      "cell_type": "code",
      "source": [
        "#1D Array\n",
        "import numpy as np\n",
        "var=np.array([1,2,3,4,5,6])\n",
        "print(var)\n",
        "print(\"\\n\")\n",
        "ar=np.array_split(var,3)\n",
        "print(ar)\n",
        "print(ar[1])"
      ],
      "metadata": {
        "colab": {
          "base_uri": "https://localhost:8080/"
        },
        "id": "Zf32lSRli4xh",
        "outputId": "ec78b7f3-553b-4cb5-9706-e7a9366d1a87"
      },
      "execution_count": null,
      "outputs": [
        {
          "output_type": "stream",
          "name": "stdout",
          "text": [
            "[1 2 3 4 5 6]\n",
            "\n",
            "\n",
            "[array([1, 2]), array([3, 4]), array([5, 6])]\n",
            "[3 4]\n"
          ]
        }
      ]
    },
    {
      "cell_type": "code",
      "source": [
        "#2D Array\n",
        "import numpy as np\n",
        "var2=np.array([[1,2],[4,5],[6,7]])\n",
        "print(var2)\n",
        "print(\"\\n\")\n",
        "ar1=np.array_split(var2,3)\n",
        "ar2=np.array_split(var2,3,axis=1)\n",
        "print(ar1)\n",
        "print('\\n')\n",
        "print(ar2)"
      ],
      "metadata": {
        "colab": {
          "base_uri": "https://localhost:8080/"
        },
        "id": "UHztM7tmj2nN",
        "outputId": "f3cd00af-6adc-47ef-b14e-28dc39ad76ad"
      },
      "execution_count": null,
      "outputs": [
        {
          "output_type": "stream",
          "name": "stdout",
          "text": [
            "[[1 2]\n",
            " [4 5]\n",
            " [6 7]]\n",
            "\n",
            "\n",
            "[array([[1, 2]]), array([[4, 5]]), array([[6, 7]])]\n",
            "\n",
            "\n",
            "[array([[1],\n",
            "       [4],\n",
            "       [6]]), array([[2],\n",
            "       [5],\n",
            "       [7]]), array([], shape=(3, 0), dtype=int64)]\n"
          ]
        }
      ]
    },
    {
      "cell_type": "markdown",
      "source": [
        "#Search Array"
      ],
      "metadata": {
        "id": "mCLus0Jr-2z7"
      }
    },
    {
      "cell_type": "code",
      "source": [
        "import numpy as np\n",
        "var=np.array([5,6,2,1,4,8,9,6,2])\n",
        "# index       0,1,2,3,4,5,6,7,8\n",
        "x=np.where(var==2)\n",
        "print(x)"
      ],
      "metadata": {
        "colab": {
          "base_uri": "https://localhost:8080/"
        },
        "id": "vkMycisq--uF",
        "outputId": "6f3a830d-9bd9-417d-941f-ed560dd75c3e"
      },
      "execution_count": null,
      "outputs": [
        {
          "output_type": "stream",
          "name": "stdout",
          "text": [
            "(array([2, 8]),)\n"
          ]
        }
      ]
    },
    {
      "cell_type": "code",
      "source": [
        "import numpy as np\n",
        "var1=np.array([1,2,3,4,5,6,7,8,9,10,11])\n",
        "# index       0,1,2,3,4,5,6\n",
        "x1=np.searchsorted(var1, 4)\n",
        "print(x1)\n",
        "\n",
        "var_1=np.array([1,2,3,4,5,6,7,8,9,10,11])\n",
        "# index       0,1,2,3,4,5,6\n",
        "x2=np.searchsorted(var_1, 5,side=\"right\")\n",
        "print(x2)\n",
        "\n",
        "x3=np.searchsorted(var_1, 5,side=\"left\")\n",
        "print(x3)"
      ],
      "metadata": {
        "colab": {
          "base_uri": "https://localhost:8080/"
        },
        "id": "IMTaUBQXBbls",
        "outputId": "03b8dda4-6226-4054-9228-f0a5ef51bd31"
      },
      "execution_count": null,
      "outputs": [
        {
          "output_type": "stream",
          "name": "stdout",
          "text": [
            "3\n",
            "5\n",
            "4\n"
          ]
        }
      ]
    },
    {
      "cell_type": "code",
      "source": [
        "import numpy as np\n",
        "var1=np.array([1,2,3,4,9,10,11])\n",
        "# index       0,1,2,3,4,5,6\n",
        "x=np.searchsorted(var1,[5,6,7],side=\"right\")\n",
        "print(x)\n"
      ],
      "metadata": {
        "colab": {
          "base_uri": "https://localhost:8080/"
        },
        "id": "-1ym1GTeEnxb",
        "outputId": "0657427d-f403-4094-ae15-92ee69f55f87"
      },
      "execution_count": null,
      "outputs": [
        {
          "output_type": "stream",
          "name": "stdout",
          "text": [
            "[4 4 4]\n"
          ]
        }
      ]
    },
    {
      "cell_type": "markdown",
      "source": [
        "Sort"
      ],
      "metadata": {
        "id": "X5FN-gmSFi1I"
      }
    },
    {
      "cell_type": "code",
      "source": [
        "var1=np.array([1,2,3,4,9,10,11])\n",
        "# index       0,1,2,3,4,5,6\n",
        "print(np.sort(var1))"
      ],
      "metadata": {
        "colab": {
          "base_uri": "https://localhost:8080/"
        },
        "id": "TbPcPFNdFkxe",
        "outputId": "d402dad2-930d-44cf-a535-d7f9fbab2312"
      },
      "execution_count": null,
      "outputs": [
        {
          "output_type": "stream",
          "name": "stdout",
          "text": [
            "[ 1  2  3  4  9  9 10 11]\n"
          ]
        }
      ]
    },
    {
      "cell_type": "code",
      "source": [
        "var1=np.array(['a','r','v','c','u'])\n",
        "# index       0,1,2,3,4,5,6\n",
        "print(np.sort(var1))"
      ],
      "metadata": {
        "colab": {
          "base_uri": "https://localhost:8080/"
        },
        "id": "R05jPKjSF5QM",
        "outputId": "534b0fe9-0f70-4b7f-fadd-9582e3cff496"
      },
      "execution_count": null,
      "outputs": [
        {
          "output_type": "stream",
          "name": "stdout",
          "text": [
            "['a' 'c' 'r' 'u' 'v']\n"
          ]
        }
      ]
    },
    {
      "cell_type": "code",
      "source": [
        "#sort 2 D array\n",
        "var1=np.array([[3,2],[6,5],[9,10]])\n",
        "# index       0,1,2,3,4,5,6\n",
        "print(np.sort(var1))"
      ],
      "metadata": {
        "colab": {
          "base_uri": "https://localhost:8080/"
        },
        "id": "svLa3bTBGMnv",
        "outputId": "2b8425df-3566-47c9-d7ba-2cf6ab9f3a0e"
      },
      "execution_count": null,
      "outputs": [
        {
          "output_type": "stream",
          "name": "stdout",
          "text": [
            "[[ 2  3]\n",
            " [ 5  6]\n",
            " [ 9 10]]\n"
          ]
        }
      ]
    },
    {
      "cell_type": "markdown",
      "source": [
        "Filter Array"
      ],
      "metadata": {
        "id": "9tv5VBCJGmBO"
      }
    },
    {
      "cell_type": "code",
      "source": [
        "var3=np.array(['r','v','c','u'])\n",
        "f=[True,False,False,True]\n",
        "new = var3[f]\n",
        "print(new)\n",
        "print(type(new))\n"
      ],
      "metadata": {
        "colab": {
          "base_uri": "https://localhost:8080/"
        },
        "id": "SFgBbW_gGsil",
        "outputId": "3a794cf5-915d-4294-e599-ad03ca6d68a6"
      },
      "execution_count": null,
      "outputs": [
        {
          "output_type": "stream",
          "name": "stdout",
          "text": [
            "['r' 'u']\n",
            "<class 'numpy.ndarray'>\n"
          ]
        }
      ]
    },
    {
      "cell_type": "code",
      "source": [
        "import numpy as np\n",
        "\n",
        "# Create a NumPy array of integers\n",
        "arr = np.array([10, 15, 20, 25, 30])\n",
        "filtered_arr = arr[arr>20]\n",
        "print(filtered_arr)\n"
      ],
      "metadata": {
        "colab": {
          "base_uri": "https://localhost:8080/"
        },
        "id": "nuKO32KPNNs0",
        "outputId": "609b8523-95c8-40cb-89f0-f730fa9af3b4"
      },
      "execution_count": null,
      "outputs": [
        {
          "output_type": "stream",
          "name": "stdout",
          "text": [
            "[25 30]\n"
          ]
        }
      ]
    },
    {
      "cell_type": "markdown",
      "source": [
        "#Shuffle"
      ],
      "metadata": {
        "id": "CxLBKMKmoSdS"
      }
    },
    {
      "cell_type": "code",
      "source": [
        "import numpy as np\n",
        "var=np.array([1,2,3,4,5])\n",
        "np.random.shuffle(var)\n",
        "print(var)"
      ],
      "metadata": {
        "colab": {
          "base_uri": "https://localhost:8080/"
        },
        "id": "weef69AnlilF",
        "outputId": "74555f05-a366-498b-f2c2-d2554d95a838"
      },
      "execution_count": null,
      "outputs": [
        {
          "output_type": "stream",
          "name": "stdout",
          "text": [
            "[1 5 3 4 2]\n"
          ]
        }
      ]
    },
    {
      "cell_type": "markdown",
      "source": [
        "#unique()"
      ],
      "metadata": {
        "id": "e2-hNNmOpkty"
      }
    },
    {
      "cell_type": "code",
      "source": [
        "import numpy as np\n",
        "var1=np.array([1,7,2,3,4,5,6,2,1,4,3,6])\n",
        "x=np.unique(var1,return_index=True,return_counts=True)\n",
        "print(x)"
      ],
      "metadata": {
        "colab": {
          "base_uri": "https://localhost:8080/"
        },
        "id": "nlnBOaFdpn4J",
        "outputId": "aa50fd5d-4b09-44e1-e18f-312360a04581"
      },
      "execution_count": null,
      "outputs": [
        {
          "output_type": "stream",
          "name": "stdout",
          "text": [
            "(array([1, 2, 3, 4, 5, 6, 7]), array([0, 2, 3, 4, 5, 6, 1]), array([2, 2, 2, 2, 1, 2, 1]))\n"
          ]
        }
      ]
    },
    {
      "cell_type": "markdown",
      "source": [
        "#resize()"
      ],
      "metadata": {
        "id": "99TZsDqNr8cR"
      }
    },
    {
      "cell_type": "code",
      "source": [
        "var2=np.array([1,2,3,4,5,6])\n",
        "y=np.resize(var2,(2,3))\n",
        "print(y)"
      ],
      "metadata": {
        "colab": {
          "base_uri": "https://localhost:8080/"
        },
        "id": "d0u_-i_psCGd",
        "outputId": "e594115b-9c22-4801-f937-8a3d99d88a2d"
      },
      "execution_count": null,
      "outputs": [
        {
          "output_type": "stream",
          "name": "stdout",
          "text": [
            "[[1 2 3]\n",
            " [4 5 6]]\n"
          ]
        }
      ]
    },
    {
      "cell_type": "markdown",
      "source": [
        "#flatten() and ravel()"
      ],
      "metadata": {
        "id": "7Bow32vmtEpF"
      }
    },
    {
      "cell_type": "code",
      "source": [
        "import numpy as np\n",
        "a=np.array([[1,2],[3,4],[5,6]])\n",
        "print(a)\n",
        "print(\"flatten :\",a.flatten(order='F'))\n",
        "print(\"Ravel :\",np.ravel(a,order='C'))"
      ],
      "metadata": {
        "colab": {
          "base_uri": "https://localhost:8080/"
        },
        "id": "zrwV2eo8tL82",
        "outputId": "1f742ef3-1e2b-4098-baa1-98ee4fca32e9"
      },
      "execution_count": null,
      "outputs": [
        {
          "output_type": "stream",
          "name": "stdout",
          "text": [
            "[[1 2]\n",
            " [3 4]\n",
            " [5 6]]\n",
            "flatten : [1 3 5 2 4 6]\n",
            "Ravel : [1 2 3 4 5 6]\n"
          ]
        }
      ]
    },
    {
      "cell_type": "markdown",
      "source": [],
      "metadata": {
        "id": "z7MyIZelLGic"
      }
    },
    {
      "cell_type": "markdown",
      "source": [
        "#insert()"
      ],
      "metadata": {
        "id": "DuJJWI7gLHIp"
      }
    },
    {
      "cell_type": "code",
      "source": [
        "import numpy as np\n",
        "var=np.array([1,2,3,4])\n",
        "# index       0 1 2 3\n",
        "print(var)\n",
        "v=np.insert(var,2,10)\n",
        "print(v)\n"
      ],
      "metadata": {
        "colab": {
          "base_uri": "https://localhost:8080/"
        },
        "id": "ijz4KqyRLPam",
        "outputId": "a944644d-45f4-43f0-e8c7-de370af34c93"
      },
      "execution_count": null,
      "outputs": [
        {
          "output_type": "stream",
          "name": "stdout",
          "text": [
            "[1 2 3 4]\n",
            "[ 1  2 10  3  4]\n"
          ]
        }
      ]
    },
    {
      "cell_type": "code",
      "source": [
        "#2D Array\n",
        "var1=np.array([[1,2,3],[4,5,6]])\n",
        "v1=np.insert(var1,2,[2,3],axis=1)\n",
        "print(v1)"
      ],
      "metadata": {
        "colab": {
          "base_uri": "https://localhost:8080/"
        },
        "id": "OlhGYzPJMpjH",
        "outputId": "abc95603-cdba-4977-eb54-d9fc45fbfa28"
      },
      "execution_count": null,
      "outputs": [
        {
          "output_type": "stream",
          "name": "stdout",
          "text": [
            "[[1 2 2 3]\n",
            " [4 5 3 6]]\n"
          ]
        }
      ]
    },
    {
      "cell_type": "markdown",
      "source": [
        "#delete()"
      ],
      "metadata": {
        "id": "j1ZGDzhYOYjD"
      }
    },
    {
      "cell_type": "code",
      "source": [
        "import numpy as np\n",
        "var=np.array([1,2,3,4])\n",
        "# index       0 1 2 3\n",
        "print(var)\n",
        "v=np.delete(var,2)\n",
        "print(v)"
      ],
      "metadata": {
        "colab": {
          "base_uri": "https://localhost:8080/"
        },
        "id": "qST2KrrkOb-8",
        "outputId": "03f8d85f-62b0-47ef-8ed0-17033257ee68"
      },
      "execution_count": null,
      "outputs": [
        {
          "output_type": "stream",
          "name": "stdout",
          "text": [
            "[1 2 3 4]\n",
            "[1 2 4]\n"
          ]
        }
      ]
    },
    {
      "cell_type": "markdown",
      "source": [
        "#Matrix"
      ],
      "metadata": {
        "id": "uX4jc8Zwa4Jd"
      }
    },
    {
      "cell_type": "code",
      "source": [
        "import numpy as np\n",
        "var1=np.matrix([[1,2],[4,5]])\n",
        "var2=np.matrix([[1,2],[4,5]])\n",
        "print(var1)\n",
        "print(type(var1))\n",
        "print(var1*var2)\n",
        "print()\n",
        "print(var1.dot(var2))"
      ],
      "metadata": {
        "colab": {
          "base_uri": "https://localhost:8080/"
        },
        "id": "AsFSncrKbLLz",
        "outputId": "0452a6a5-1c5e-488c-b034-3cdc21b2d0cf"
      },
      "execution_count": null,
      "outputs": [
        {
          "output_type": "stream",
          "name": "stdout",
          "text": [
            "[[1 2]\n",
            " [4 5]]\n",
            "<class 'numpy.matrix'>\n",
            "[[ 9 12]\n",
            " [24 33]]\n",
            "\n",
            "[[ 9 12]\n",
            " [24 33]]\n"
          ]
        }
      ]
    },
    {
      "cell_type": "markdown",
      "source": [
        "#Matrix Function in Numpy Array\n",
        "\n",
        "**transpose(), swapaxes(), inverse ,power, determinate**\n",
        "\n",
        "\n",
        "\n"
      ],
      "metadata": {
        "id": "baNeuv66hgAh"
      }
    },
    {
      "cell_type": "code",
      "source": [
        "import numpy as np\n",
        "var=np.matrix([[1,2],[3,4]])\n",
        "print(var,\"\\n\")\n",
        "#transpose\n",
        "print(np.transpose(var))\n",
        "print()\n",
        "print(var.T) #transpose\n",
        "print()\n",
        "#swapaxes\n",
        "print(np.swapaxes(var,0,1))\n",
        "print()\n",
        "#inverse\n",
        "print(np.linalg.inv(var))\n",
        "print()\n",
        "#power\n",
        "print(var**2)\n",
        "print()\n",
        "print(np.linalg.matrix_power(var,2))\n",
        "print()\n",
        "#determinate\n",
        "print(np.linalg.det(var))"
      ],
      "metadata": {
        "colab": {
          "base_uri": "https://localhost:8080/"
        },
        "collapsed": true,
        "id": "A_zG61Dhhdel",
        "outputId": "802f4781-f129-448a-d1ee-8754734315ec"
      },
      "execution_count": null,
      "outputs": [
        {
          "output_type": "stream",
          "name": "stdout",
          "text": [
            "[[1 2]\n",
            " [3 4]] \n",
            "\n",
            "[[1 3]\n",
            " [2 4]]\n",
            "\n",
            "[[1 3]\n",
            " [2 4]]\n",
            "\n",
            "[[1 3]\n",
            " [2 4]]\n",
            "\n",
            "[[-2.   1. ]\n",
            " [ 1.5 -0.5]]\n",
            "\n",
            "[[ 7 10]\n",
            " [15 22]]\n",
            "\n",
            "[[ 7 10]\n",
            " [15 22]]\n",
            "\n",
            "-2.0000000000000004\n"
          ]
        }
      ]
    }
  ]
}