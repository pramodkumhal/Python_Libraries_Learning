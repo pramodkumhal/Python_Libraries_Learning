{
  "nbformat": 4,
  "nbformat_minor": 0,
  "metadata": {
    "colab": {
      "provenance": [],
      "authorship_tag": "ABX9TyPYcPjLS2BRgiZpKeVPn0IX",
      "include_colab_link": true
    },
    "kernelspec": {
      "name": "python3",
      "display_name": "Python 3"
    },
    "language_info": {
      "name": "python"
    }
  },
  "cells": [
    {
      "cell_type": "markdown",
      "metadata": {
        "id": "view-in-github",
        "colab_type": "text"
      },
      "source": [
        "<a href=\"https://colab.research.google.com/github/pramodkumhal/Python_Libraries_Learning/blob/main/NumPy_Files/NumPy3.ipynb\" target=\"_parent\"><img src=\"https://colab.research.google.com/assets/colab-badge.svg\" alt=\"Open In Colab\"/></a>"
      ]
    },
    {
      "cell_type": "markdown",
      "source": [
        "# Data Type\n"
      ],
      "metadata": {
        "id": "LTZilV2Qy2RP"
      }
    },
    {
      "cell_type": "code",
      "execution_count": null,
      "metadata": {
        "colab": {
          "base_uri": "https://localhost:8080/"
        },
        "id": "jvOHRNzJyq_Q",
        "outputId": "cf4c21b9-297d-4a48-bd1a-2c561e9bc5fe"
      },
      "outputs": [
        {
          "output_type": "stream",
          "name": "stdout",
          "text": [
            "Data Type: int64\n"
          ]
        }
      ],
      "source": [
        "#integer\n",
        "import numpy as np\n",
        "var=np.array([1,2,3,4])\n",
        "print(\"Data Type:\",var.dtype)"
      ]
    },
    {
      "cell_type": "code",
      "source": [
        "#float\n",
        "import numpy as np\n",
        "var=np.array([1.1,2.8,3.6,4.6])\n",
        "print(\"Data Type:\",var.dtype)"
      ],
      "metadata": {
        "colab": {
          "base_uri": "https://localhost:8080/"
        },
        "id": "ge6JnJxh7pGx",
        "outputId": "f553cc84-9905-4629-99d6-51a6a4226c14"
      },
      "execution_count": null,
      "outputs": [
        {
          "output_type": "stream",
          "name": "stdout",
          "text": [
            "Data Type: float64\n"
          ]
        }
      ]
    },
    {
      "cell_type": "code",
      "source": [
        "#string\n",
        "import numpy as np\n",
        "var=np.array(['A','B','C','D'])\n",
        "print(\"Data Type:\",var.dtype)"
      ],
      "metadata": {
        "colab": {
          "base_uri": "https://localhost:8080/"
        },
        "id": "1_GoqxKC7yhs",
        "outputId": "a79c2e3c-6ff1-4c47-ec30-a7c7fc1537d6"
      },
      "execution_count": null,
      "outputs": [
        {
          "output_type": "stream",
          "name": "stdout",
          "text": [
            "Data Type: <U21\n"
          ]
        }
      ]
    },
    {
      "cell_type": "code",
      "source": [
        "#mix string have high precedence than integer\n",
        "import numpy as np\n",
        "var=np.array(['A','B','C','D',1,2,3,4])\n",
        "print(\"Data Type:\",var.dtype)"
      ],
      "metadata": {
        "colab": {
          "base_uri": "https://localhost:8080/"
        },
        "id": "Y2iNQom884TV",
        "outputId": "95323f5d-a371-4424-d2e0-ecb4366a9672"
      },
      "execution_count": null,
      "outputs": [
        {
          "output_type": "stream",
          "name": "stdout",
          "text": [
            "Data Type: <U21\n"
          ]
        }
      ]
    },
    {
      "cell_type": "code",
      "source": [
        "#changing int64 into int8\n",
        "x=np.array([1,2,3,4],dtype=np.int8)\n",
        "print(\"Data Type:\",x.dtype)\n",
        "print(x)"
      ],
      "metadata": {
        "colab": {
          "base_uri": "https://localhost:8080/"
        },
        "id": "cdEMqzu99NWD",
        "outputId": "99a9d6a4-29f9-43eb-d415-8e8bea55e9bb"
      },
      "execution_count": null,
      "outputs": [
        {
          "output_type": "stream",
          "name": "stdout",
          "text": [
            "Data Type: int8\n",
            "[1 2 3 4]\n"
          ]
        }
      ]
    },
    {
      "cell_type": "code",
      "source": [
        "#changing data types of numpy array from int to float\n",
        "x=np.array([1,2,3,4],dtype='f')\n",
        "print(\"Data Type:\",x.dtype)\n",
        "print(x)"
      ],
      "metadata": {
        "colab": {
          "base_uri": "https://localhost:8080/"
        },
        "id": "bHLzEU_c-tUN",
        "outputId": "0aa1fdc9-92ad-491b-def2-4459b38e66ce"
      },
      "execution_count": null,
      "outputs": [
        {
          "output_type": "stream",
          "name": "stdout",
          "text": [
            "Data Type: float32\n",
            "[1. 2. 3. 4.]\n"
          ]
        }
      ]
    },
    {
      "cell_type": "code",
      "source": [
        "x=np.array([1,2,3,4])\n",
        "new=np.float32(x)\n",
        "print(\"Data Type:\",x.dtype)\n",
        "print(x)\n",
        "print(\"Data Type:\",new.dtype)\n",
        "print(new)"
      ],
      "metadata": {
        "colab": {
          "base_uri": "https://localhost:8080/"
        },
        "id": "pKDBXvXO_gi6",
        "outputId": "edf7deef-1851-42ac-e97c-e17f26c9229f"
      },
      "execution_count": null,
      "outputs": [
        {
          "output_type": "stream",
          "name": "stdout",
          "text": [
            "Data Type: int64\n",
            "[1 2 3 4]\n",
            "Data Type: float32\n",
            "[1. 2. 3. 4.]\n"
          ]
        }
      ]
    },
    {
      "cell_type": "code",
      "source": [
        "x=np.array([1,2,3,4])\n",
        "new=x.astype(np.float32)\n",
        "print(x)\n",
        "print(new)"
      ],
      "metadata": {
        "colab": {
          "base_uri": "https://localhost:8080/"
        },
        "id": "JiTMReHOBY-k",
        "outputId": "918c1a37-e89f-4d2a-f8be-ea62314c99f8"
      },
      "execution_count": null,
      "outputs": [
        {
          "output_type": "stream",
          "name": "stdout",
          "text": [
            "[1 2 3 4]\n",
            "[1. 2. 3. 4.]\n"
          ]
        }
      ]
    }
  ]
}