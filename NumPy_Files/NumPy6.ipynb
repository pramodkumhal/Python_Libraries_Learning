{
  "nbformat": 4,
  "nbformat_minor": 0,
  "metadata": {
    "colab": {
      "provenance": [],
      "authorship_tag": "ABX9TyMzfdz358OUyl84AhjxBW6H",
      "include_colab_link": true
    },
    "kernelspec": {
      "name": "python3",
      "display_name": "Python 3"
    },
    "language_info": {
      "name": "python"
    }
  },
  "cells": [
    {
      "cell_type": "markdown",
      "metadata": {
        "id": "view-in-github",
        "colab_type": "text"
      },
      "source": [
        "<a href=\"https://colab.research.google.com/github/pramodkumhal/Python_Libraries_Learning/blob/main/NumPy_Files/NumPy6.ipynb\" target=\"_parent\"><img src=\"https://colab.research.google.com/assets/colab-badge.svg\" alt=\"Open In Colab\"/></a>"
      ]
    },
    {
      "cell_type": "markdown",
      "source": [
        "#Shape and Reshaping in NumPy Array"
      ],
      "metadata": {
        "id": "xyh-h7st-GHT"
      }
    },
    {
      "cell_type": "code",
      "execution_count": null,
      "metadata": {
        "colab": {
          "base_uri": "https://localhost:8080/"
        },
        "id": "owIXoGS-4ckS",
        "outputId": "63d6ca80-617d-4ab9-cea5-c206c6ee9f92"
      },
      "outputs": [
        {
          "output_type": "stream",
          "name": "stdout",
          "text": [
            "[[1 2]\n",
            " [1 2]] \n",
            "\n",
            "(2, 2)\n"
          ]
        }
      ],
      "source": [
        "import numpy as np\n",
        "var=np.array([[1,2],[1,2]])\n",
        "print(var,\"\\n\")\n",
        "print(var.shape)"
      ]
    },
    {
      "cell_type": "code",
      "source": [
        "var1= np.array([1,2,3,4],ndmin=2)\n",
        "print(var1)\n",
        "print(var1.ndim)\n",
        "print(var1.shape)"
      ],
      "metadata": {
        "colab": {
          "base_uri": "https://localhost:8080/"
        },
        "id": "Wc7iizaW_M22",
        "outputId": "6efd14e2-5a29-4c98-e425-ab752e514e90"
      },
      "execution_count": null,
      "outputs": [
        {
          "output_type": "stream",
          "name": "stdout",
          "text": [
            "[[1 2 3 4]]\n",
            "2\n",
            "(1, 4)\n"
          ]
        }
      ]
    },
    {
      "cell_type": "markdown",
      "source": [
        "#Reshape"
      ],
      "metadata": {
        "id": "e5AyEGd5AhDM"
      }
    },
    {
      "cell_type": "code",
      "source": [
        "var2=np.array([1,2,3,4,5,6,7,8,9,10,11,12])\n",
        "x=var2.reshape(3,2,2)\n",
        "print(x)\n",
        "print(x.ndim)\n",
        "print(\"\\n\")\n",
        "#new=x.reshape(-1)\n",
        "new=x.ravel()\n",
        "print(new,new.ndim)"
      ],
      "metadata": {
        "colab": {
          "base_uri": "https://localhost:8080/"
        },
        "id": "maJ-FVPxAj_X",
        "outputId": "01219ae0-9a45-4412-c9e0-4a791c308e40"
      },
      "execution_count": null,
      "outputs": [
        {
          "output_type": "stream",
          "name": "stdout",
          "text": [
            "[[[ 1  2]\n",
            "  [ 3  4]]\n",
            "\n",
            " [[ 5  6]\n",
            "  [ 7  8]]\n",
            "\n",
            " [[ 9 10]\n",
            "  [11 12]]]\n",
            "3\n",
            "\n",
            "\n",
            "[ 1  2  3  4  5  6  7  8  9 10 11 12] 1\n"
          ]
        }
      ]
    }
  ]
}