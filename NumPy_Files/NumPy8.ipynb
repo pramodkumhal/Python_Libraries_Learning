{
  "nbformat": 4,
  "nbformat_minor": 0,
  "metadata": {
    "colab": {
      "provenance": [],
      "authorship_tag": "ABX9TyOLwB5qHf/YNWEqECYrrxZZ",
      "include_colab_link": true
    },
    "kernelspec": {
      "name": "python3",
      "display_name": "Python 3"
    },
    "language_info": {
      "name": "python"
    }
  },
  "cells": [
    {
      "cell_type": "markdown",
      "metadata": {
        "id": "view-in-github",
        "colab_type": "text"
      },
      "source": [
        "<a href=\"https://colab.research.google.com/github/pramodkumhal/Python_Libraries_Learning/blob/main/NumPy_Files/NumPy8.ipynb\" target=\"_parent\"><img src=\"https://colab.research.google.com/assets/colab-badge.svg\" alt=\"Open In Colab\"/></a>"
      ]
    },
    {
      "cell_type": "markdown",
      "source": [
        "#Indexing NumPy Array"
      ],
      "metadata": {
        "id": "PIHawuXSaaYB"
      }
    },
    {
      "cell_type": "code",
      "source": [
        "#1D Array\n",
        "import numpy as np\n",
        "var=np.array([1,2,3])\n",
        "print(var[1])"
      ],
      "metadata": {
        "colab": {
          "base_uri": "https://localhost:8080/"
        },
        "id": "IrKMl8BHf71N",
        "outputId": "eca95352-e946-414c-8f49-9b0489f4893c"
      },
      "execution_count": null,
      "outputs": [
        {
          "output_type": "stream",
          "name": "stdout",
          "text": [
            "2\n"
          ]
        }
      ]
    },
    {
      "cell_type": "code",
      "source": [
        "#2D Array\n",
        "import numpy as np\n",
        "var=np.array([[1,2],[3,4]])\n",
        "print(var[1,0])"
      ],
      "metadata": {
        "colab": {
          "base_uri": "https://localhost:8080/"
        },
        "id": "H-7JzVb_f7kz",
        "outputId": "379484bf-839d-4dbb-aac5-a81c6f04ba1c"
      },
      "execution_count": null,
      "outputs": [
        {
          "output_type": "stream",
          "name": "stdout",
          "text": [
            "3\n"
          ]
        }
      ]
    },
    {
      "cell_type": "code",
      "execution_count": null,
      "metadata": {
        "colab": {
          "base_uri": "https://localhost:8080/"
        },
        "id": "MWsKqMXmaJrD",
        "outputId": "5abb7c7d-12dc-431e-ba79-df87f09e023e"
      },
      "outputs": [
        {
          "output_type": "stream",
          "name": "stdout",
          "text": [
            "7\n"
          ]
        }
      ],
      "source": [
        "#3D Array\n",
        "import numpy as np\n",
        "var=np.array([[[1,2],[3,4]],[[5,6],[7,8]]])\n",
        "print(var[1,1,0])"
      ]
    },
    {
      "cell_type": "markdown",
      "source": [
        "#Slicing Numpy Array"
      ],
      "metadata": {
        "id": "bR_DEg0sgY9I"
      }
    },
    {
      "cell_type": "code",
      "source": [
        "var=np.array([1,2,3,4,5])\n",
        "print(var[:2])"
      ],
      "metadata": {
        "colab": {
          "base_uri": "https://localhost:8080/"
        },
        "id": "TKF_y7osgYIr",
        "outputId": "f891bd07-fb5b-48a0-cc01-de0a51b0fb63"
      },
      "execution_count": null,
      "outputs": [
        {
          "output_type": "stream",
          "name": "stdout",
          "text": [
            "[1 2]\n"
          ]
        }
      ]
    },
    {
      "cell_type": "code",
      "source": [
        "import numpy as np\n",
        "var=np.array([[1,2,3],[4,5,6],[7,8,9]])\n",
        "print(var,\"\\n\")\n",
        "print(var[0:2,1:2])"
      ],
      "metadata": {
        "colab": {
          "base_uri": "https://localhost:8080/"
        },
        "collapsed": true,
        "id": "wUXNIcLfkuvm",
        "outputId": "8155eef0-cee2-4b46-fe0d-39cea699571f"
      },
      "execution_count": null,
      "outputs": [
        {
          "output_type": "stream",
          "name": "stdout",
          "text": [
            "[[1 2 3]\n",
            " [4 5 6]\n",
            " [7 8 9]] \n",
            "\n",
            "[[2]\n",
            " [5]]\n"
          ]
        }
      ]
    },
    {
      "cell_type": "markdown",
      "source": [
        "#Iteration NumPy ARray"
      ],
      "metadata": {
        "id": "QdTDDW2zcrBu"
      }
    },
    {
      "cell_type": "code",
      "source": [
        "import numpy as np\n",
        "var=np.array([4,5,6,7])\n",
        "print(var,\"\\n\")\n",
        "for i in var:\n",
        "  print(i)"
      ],
      "metadata": {
        "colab": {
          "base_uri": "https://localhost:8080/"
        },
        "id": "95A4gKWqbrJd",
        "outputId": "f79a36ed-b7f8-4527-f896-a5685a3a68aa"
      },
      "execution_count": null,
      "outputs": [
        {
          "output_type": "stream",
          "name": "stdout",
          "text": [
            "[4 5 6 7] \n",
            "\n",
            "4\n",
            "5\n",
            "6\n",
            "7\n"
          ]
        }
      ]
    },
    {
      "cell_type": "code",
      "source": [
        "import numpy as np\n",
        "var=np.array([[1,2,3,4],[5,6,7,8]])\n",
        "print(var,\"\\n\")\n",
        "for i in var:\n",
        "  print(i)\n",
        "print(\"\\n\")\n",
        "for k in var:\n",
        "  for j in k:\n",
        "    print(j)"
      ],
      "metadata": {
        "colab": {
          "base_uri": "https://localhost:8080/"
        },
        "collapsed": true,
        "id": "LxozSb8mm1Sr",
        "outputId": "a98952bd-6307-4a80-a404-e023e5efa6e1"
      },
      "execution_count": null,
      "outputs": [
        {
          "output_type": "stream",
          "name": "stdout",
          "text": [
            "[[1 2 3 4]\n",
            " [5 6 7 8]] \n",
            "\n",
            "[1 2 3 4]\n",
            "[5 6 7 8]\n",
            "\n",
            "\n",
            "1\n",
            "2\n",
            "3\n",
            "4\n",
            "5\n",
            "6\n",
            "7\n",
            "8\n"
          ]
        }
      ]
    },
    {
      "cell_type": "code",
      "source": [
        "import numpy as np\n",
        "var=np.array([[[1,2,3,4],[8,6,2,4]]])\n",
        "print(var,\"\\n\")\n",
        "for i in var:\n",
        "  for j in i:\n",
        "    for k in j:\n",
        "      print(k)"
      ],
      "metadata": {
        "colab": {
          "base_uri": "https://localhost:8080/"
        },
        "id": "sx5fbBIHnzGz",
        "outputId": "4022ddde-4959-479d-e306-7332f2ffa72c"
      },
      "execution_count": null,
      "outputs": [
        {
          "output_type": "stream",
          "name": "stdout",
          "text": [
            "[[[1 2 3 4]\n",
            "  [8 6 2 4]]] \n",
            "\n",
            "1\n",
            "2\n",
            "3\n",
            "4\n",
            "8\n",
            "6\n",
            "2\n",
            "4\n"
          ]
        }
      ]
    },
    {
      "cell_type": "code",
      "source": [
        "import numpy as np\n",
        "var=np.array([[[4,5,6,7],[5,6,2,4]]])\n",
        "print(var,\"\\n\")\n",
        "for i in np.nditer(var):\n",
        "  print(i)"
      ],
      "metadata": {
        "colab": {
          "base_uri": "https://localhost:8080/"
        },
        "id": "S__lP4jVo8lv",
        "outputId": "e2f5b6bf-9d6f-407f-9968-de70c99f714f"
      },
      "execution_count": null,
      "outputs": [
        {
          "output_type": "stream",
          "name": "stdout",
          "text": [
            "[[[4 5 6 7]\n",
            "  [5 6 2 4]]] \n",
            "\n",
            "4\n",
            "5\n",
            "6\n",
            "7\n",
            "5\n",
            "6\n",
            "2\n",
            "4\n"
          ]
        }
      ]
    },
    {
      "cell_type": "code",
      "source": [
        "import numpy as np\n",
        "var=np.array([[[4,5,6,7],[5,6,2,4]]])\n",
        "print(var,\"\\n\")\n",
        "for i,d in np.ndenumerate(var):\n",
        "  print(i,d)"
      ],
      "metadata": {
        "colab": {
          "base_uri": "https://localhost:8080/"
        },
        "id": "hHllL2R7qxjh",
        "outputId": "d950e7a8-f659-435f-edaa-3d01eacf24ca"
      },
      "execution_count": null,
      "outputs": [
        {
          "output_type": "stream",
          "name": "stdout",
          "text": [
            "[[[4 5 6 7]\n",
            "  [5 6 2 4]]] \n",
            "\n",
            "(0, 0, 0) 4\n",
            "(0, 0, 1) 5\n",
            "(0, 0, 2) 6\n",
            "(0, 0, 3) 7\n",
            "(0, 1, 0) 5\n",
            "(0, 1, 1) 6\n",
            "(0, 1, 2) 2\n",
            "(0, 1, 3) 4\n"
          ]
        }
      ]
    }
  ]
}