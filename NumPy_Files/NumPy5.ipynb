{
  "nbformat": 4,
  "nbformat_minor": 0,
  "metadata": {
    "colab": {
      "provenance": [],
      "authorship_tag": "ABX9TyNbiqnNu8NHXcyFc42ydNvQ",
      "include_colab_link": true
    },
    "kernelspec": {
      "name": "python3",
      "display_name": "Python 3"
    },
    "language_info": {
      "name": "python"
    }
  },
  "cells": [
    {
      "cell_type": "markdown",
      "metadata": {
        "id": "view-in-github",
        "colab_type": "text"
      },
      "source": [
        "<a href=\"https://colab.research.google.com/github/pramodkumhal/Python_Libraries_Learning/blob/main/NumPy_Files/NumPy5.ipynb\" target=\"_parent\"><img src=\"https://colab.research.google.com/assets/colab-badge.svg\" alt=\"Open In Colab\"/></a>"
      ]
    },
    {
      "cell_type": "markdown",
      "source": [
        "#Arithmethic Function"
      ],
      "metadata": {
        "id": "qNLMbG8tvPcT"
      }
    },
    {
      "cell_type": "code",
      "source": [
        "import numpy as np\n",
        "var=np.array([1,4,9,25])\n",
        "print(\"minimum: \",np.min(var),np.argmin(var))\n",
        "print(\"maximum: \",np.max(var),np.argmax(var))\n",
        "print(\"Sqrt: \",np.sqrt(var))"
      ],
      "metadata": {
        "colab": {
          "base_uri": "https://localhost:8080/"
        },
        "id": "1K5cFjYOvUry",
        "outputId": "cce3f29e-ed0a-41fb-b0d1-7be6dfd3fc78"
      },
      "execution_count": null,
      "outputs": [
        {
          "output_type": "stream",
          "name": "stdout",
          "text": [
            "minimum:  1 0\n",
            "maximum:  25 3\n",
            "Sqrt:  [1. 2. 3. 5.]\n"
          ]
        }
      ]
    },
    {
      "cell_type": "code",
      "execution_count": null,
      "metadata": {
        "colab": {
          "base_uri": "https://localhost:8080/"
        },
        "id": "_0nsKT5ut8Wx",
        "outputId": "3a8e3a0a-88a5-48dc-f057-8a2a5e866464"
      },
      "outputs": [
        {
          "output_type": "stream",
          "name": "stdout",
          "text": [
            "[2 1 3] 1\n"
          ]
        }
      ],
      "source": [
        "var1=np.array([[2,1,3],[9,5,6]])\n",
        "print(np.min(var1,0),np.argmin(var1))"
      ]
    },
    {
      "cell_type": "code",
      "source": [
        "var=np.array([1,2,3,4])\n",
        "print(np.sin(var))\n",
        "print(np.cos(var))\n",
        "print(np.cumsum(var))"
      ],
      "metadata": {
        "colab": {
          "base_uri": "https://localhost:8080/"
        },
        "id": "VS1SM1jUyLRw",
        "outputId": "12f5ce12-1a88-4826-8396-bd2671152e12"
      },
      "execution_count": null,
      "outputs": [
        {
          "output_type": "stream",
          "name": "stdout",
          "text": [
            "[ 0.84147098  0.90929743  0.14112001 -0.7568025 ]\n",
            "[ 0.54030231 -0.41614684 -0.9899925  -0.65364362]\n",
            "[ 1  3  6 10]\n"
          ]
        }
      ]
    }
  ]
}